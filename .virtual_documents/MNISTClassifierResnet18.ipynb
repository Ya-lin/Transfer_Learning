import numpy as np
from matplotlib import pyplot as plt
from tqdm import tqdm
from pathlib import Path
from types import SimpleNamespace


import torch, torch.nn as nn, torch.optim as optim
from torch.utils.data import DataLoader
from torchvision import datasets, transforms
from torchvision.models import resnet18, ResNet18_Weights


args = SimpleNamespace()
args.device = torch.device('cuda' if torch.cuda.is_available() else 'cpu')
args.bs = 64
args.ep = 10
args.lr = 1e-3
print(args)


pdata = Path('/spd', 'data')
pdata.mkdir(parents=True, exist_ok=True)
transform = transforms.Compose([transforms.Resize((224, 224)),transforms.ToTensor(),
                                transforms.Normalize((0.1307,), (0.3081,))])
train_set = datasets.MNIST(root = pdata, train=True, download=True, transform=transform) 
test_set = datasets.MNIST(root = pdata, train=False, download=True, transform=transform) 
train_loader = DataLoader(train_set, batch_size=args.bs, shuffle=True) 
test_loader = DataLoader(test_set, batch_size=8*args.bs, shuffle=True)


model = resnet18(weights=ResNet18_Weights.IMAGENET1K_V1)


model.conv1 = nn.Conv2d(1, 64, kernel_size=(7, 7), stride=(2, 2), padding=(3, 3), bias=False) 
model.fc = nn.Linear(model.fc.in_features, 10) 
model = model.to(args.device)
for name, param in model.named_parameters(): 
    if "conv1" in name or "fc" in name: 
        param.requires_grad = True 
    else: param.requires_grad = False


optimizer = optim.AdamW(model.parameters(), lr=args.lr) 
criterion = nn.CrossEntropyLoss()


def train(model, device, train_loader, optimizer, criterion, epoch): 
    model.train()
    loss_sum = 0
    for data, target in train_loader: 
        data, target = data.to(device), target.to(device) 
        optimizer.zero_grad() 
        output = model(data) 
        loss = criterion(output, target) 
        loss.backward()
        optimizer.step()
        loss_sum += loss.item()
    return loss_sum/len(train_loader)


@torch.no_grad()
def test(model, device, test_loader): 
    model.eval()
    correct = 0
    for data, target in test_loader: 
        data, target = data.to(device), target.to(device) 
        output = model(data)
        pred = output.argmax(dim=1, keepdim=True)
        correct += pred.eq(target.view_as(pred)).sum().item() 
    print(f'Accuracy: {correct/len(test_loader.dataset):.4f}')


losses = []
for epoch in tqdm(range(1, args.ep+1)): 
    loss = train(model, args.device, train_loader, optimizer, criterion, args.ep)
    losses.append(loss)


plt.plot(losses)
plt.show()


test(model, args.device, test_loader)
