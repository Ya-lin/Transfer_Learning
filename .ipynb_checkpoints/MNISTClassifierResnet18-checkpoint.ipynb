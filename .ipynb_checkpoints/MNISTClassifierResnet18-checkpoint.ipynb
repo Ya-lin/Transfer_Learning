{
 "cells": [
  {
   "cell_type": "code",
   "execution_count": 1,
   "id": "2c4d2615-2d57-4aa8-991f-a9838ad28de6",
   "metadata": {},
   "outputs": [],
   "source": [
    "import numpy as np\n",
    "from matplotlib import pyplot as plt\n",
    "from tqdm import tqdm\n",
    "from pathlib import Path\n",
    "from types import SimpleNamespace\n",
    "\n",
    "\n",
    "import torch, torch.nn as nn, torch.optim as optim\n",
    "from torch.utils.data import DataLoader\n",
    "from torchvision import datasets, transforms\n",
    "from torchvision.models import resnet18, ResNet18_Weights"
   ]
  },
  {
   "cell_type": "code",
   "execution_count": 2,
   "id": "535d9f2b-96f0-446b-910e-d7453902bab5",
   "metadata": {},
   "outputs": [
    {
     "name": "stdout",
     "output_type": "stream",
     "text": [
      "namespace(device=device(type='cuda'), bs=64, ep=10, lr=0.001)\n"
     ]
    }
   ],
   "source": [
    "args = SimpleNamespace()\n",
    "args.device = torch.device('cuda' if torch.cuda.is_available() else 'cpu')\n",
    "args.bs = 64\n",
    "args.ep = 10\n",
    "args.lr = 1e-3\n",
    "print(args)"
   ]
  },
  {
   "cell_type": "code",
   "execution_count": 3,
   "id": "7d3fa7b3-a18c-4bb5-bfc3-c3a287ca1f8f",
   "metadata": {},
   "outputs": [],
   "source": [
    "pdata = Path('/spd', 'data')\n",
    "pdata.mkdir(parents=True, exist_ok=True)\n",
    "transform = transforms.Compose([transforms.Resize((224, 224)),transforms.ToTensor(),\n",
    "                                transforms.Normalize((0.1307,), (0.3081,))])\n",
    "train_set = datasets.MNIST(root = pdata, train=True, download=True, transform=transform) \n",
    "test_set = datasets.MNIST(root = pdata, train=False, download=True, transform=transform) \n",
    "train_loader = DataLoader(train_set, batch_size=args.bs, shuffle=True) \n",
    "test_loader = DataLoader(test_set, batch_size=8*args.bs, shuffle=True)"
   ]
  },
  {
   "cell_type": "code",
   "execution_count": 4,
   "id": "4224b683-ac7a-4342-8892-4836b1da8832",
   "metadata": {},
   "outputs": [],
   "source": [
    "model = resnet18(weights=ResNet18_Weights.IMAGENET1K_V1)"
   ]
  },
  {
   "cell_type": "code",
   "execution_count": 5,
   "id": "c7a5c72f-b415-477f-b36e-337cce5381f3",
   "metadata": {},
   "outputs": [],
   "source": [
    "model.conv1 = nn.Conv2d(1, 64, kernel_size=(7, 7), stride=(2, 2), padding=(3, 3), bias=False) \n",
    "model.fc = nn.Linear(model.fc.in_features, 10) \n",
    "model = model.to(args.device)\n",
    "for name, param in model.named_parameters(): \n",
    "    if \"conv1\" in name or \"fc\" in name: \n",
    "        param.requires_grad = True \n",
    "    else: param.requires_grad = False"
   ]
  },
  {
   "cell_type": "code",
   "execution_count": 6,
   "id": "18ff0e55-4b2d-44c9-aac3-92aaffc6a47f",
   "metadata": {},
   "outputs": [],
   "source": [
    "optimizer = optim.AdamW(model.parameters(), lr=args.lr) \n",
    "criterion = nn.CrossEntropyLoss()"
   ]
  },
  {
   "cell_type": "code",
   "execution_count": 7,
   "id": "7a6b5285-f1a8-4c5f-8b8c-b117c1588ca0",
   "metadata": {},
   "outputs": [],
   "source": [
    "def train(model, device, train_loader, optimizer, criterion, epoch): \n",
    "    model.train()\n",
    "    loss_sum = 0\n",
    "    for data, target in train_loader: \n",
    "        data, target = data.to(device), target.to(device) \n",
    "        optimizer.zero_grad() \n",
    "        output = model(data) \n",
    "        loss = criterion(output, target) \n",
    "        loss.backward()\n",
    "        optimizer.step()\n",
    "        loss_sum += loss.item()\n",
    "    return loss_sum/len(train_loader)"
   ]
  },
  {
   "cell_type": "code",
   "execution_count": 8,
   "id": "35ad05a1-f417-4b82-8c9e-919723d31510",
   "metadata": {},
   "outputs": [],
   "source": [
    "@torch.no_grad()\n",
    "def test(model, device, test_loader): \n",
    "    model.eval()\n",
    "    correct = 0\n",
    "    for data, target in test_loader: \n",
    "        data, target = data.to(device), target.to(device) \n",
    "        output = model(data)\n",
    "        pred = output.argmax(dim=1, keepdim=True)\n",
    "        correct += pred.eq(target.view_as(pred)).sum().item() \n",
    "    print(f'Accuracy: {correct/len(test_loader.dataset):.4f}')"
   ]
  },
  {
   "cell_type": "code",
   "execution_count": 9,
   "id": "a3e33c2e-e88f-44ac-8b41-eb74972b1e1f",
   "metadata": {},
   "outputs": [
    {
     "name": "stderr",
     "output_type": "stream",
     "text": [
      "100%|██████████| 10/10 [10:02<00:00, 60.21s/it]\n"
     ]
    }
   ],
   "source": [
    "losses = []\n",
    "for epoch in tqdm(range(1, args.ep+1)): \n",
    "    loss = train(model, args.device, train_loader, optimizer, criterion, args.ep)\n",
    "    losses.append(loss)"
   ]
  },
  {
   "cell_type": "code",
   "execution_count": 10,
   "id": "bba5669a-28a5-4271-af6a-72e8f87f5afc",
   "metadata": {},
   "outputs": [
    {
     "data": {
      "image/png": "[encoded data removed]",
      "text/plain": [
       "<Figure size 640x480 with 1 Axes>"
      ]
     },
     "metadata": {},
     "output_type": "display_data"
    }
   ],
   "source": [
    "plt.plot(losses)\n",
    "plt.show()"
   ]
  },
  {
   "cell_type": "code",
   "execution_count": 11,
   "id": "be7d0291-dd14-4cbc-b568-e85331b0b476",
   "metadata": {},
   "outputs": [
    {
     "name": "stdout",
     "output_type": "stream",
     "text": [
      "Accuracy: 0.9949\n"
     ]
    }
   ],
   "source": [
    "test(model, args.device, test_loader)"
   ]
  }
 ],
 "metadata": {
  "kernelspec": {
   "display_name": "Python 3 (ipykernel)",
   "language": "python",
   "name": "python3"
  },
  "language_info": {
   "codemirror_mode": {
    "name": "ipython",
    "version": 3
   },
   "file_extension": ".py",
   "mimetype": "text/x-python",
   "name": "python",
   "nbconvert_exporter": "python",
   "pygments_lexer": "ipython3",
   "version": "3.12.4"
  }
 },
 "nbformat": 4,
 "nbformat_minor": 5
}
